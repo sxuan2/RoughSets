{
 "cells": [
  {
   "cell_type": "code",
   "execution_count": 43,
   "metadata": {},
   "outputs": [],
   "source": [
    "import numpy as np\n",
    "import pandas as pd\n",
    "import time\n",
    "import os"
   ]
  },
  {
   "cell_type": "code",
   "execution_count": 44,
   "metadata": {},
   "outputs": [],
   "source": [
    "path = '/Users/sijianxuan/Documents'"
   ]
  },
  {
   "cell_type": "code",
   "execution_count": 45,
   "metadata": {},
   "outputs": [],
   "source": [
    "def basic_set(df):\n",
    "    \"\"\"\n",
    "    return a all rows with their values combination\n",
    "    this means if all values([0, 0, 0, 0]) are same, all of their row numbers([0, 1, 2, 3, 5]) \n",
    "    will be returned\n",
    "    example\n",
    "    {'[0, 0, 0, 0]': [0, 1, 2, 3, 5],\n",
    "     '[0, 0, 1, 0]': [4],\n",
    "     '[1, 1, 1, 0]': [6, 9],\n",
    "     '[1, 1, 0, 0]': [7, 8],\n",
    "     '[1, 1, 1, 1]': [10, 12, 13],\n",
    "     '[1, 1, 0, 1]': [11, 14],\n",
    "     '[1, 0, 0, 1]': [15, 17],\n",
    "     '[1, 0, 1, 1]': [16]}\n",
    " \n",
    "     \"\"\"\n",
    "    basic = {}\n",
    "    for i in df.drop_duplicates().values.tolist():\n",
    "        basic[str(i)] = []\n",
    "        for j, k in enumerate(df.values.tolist()):\n",
    "            if k == i:\n",
    "                basic[str(i)].append(j)\n",
    "    return basic"
   ]
  },
  {
   "cell_type": "code",
   "execution_count": 46,
   "metadata": {},
   "outputs": [],
   "source": [
    "def rough_set(data,y_name):\n",
    "    \"\"\"\n",
    "    \"\"\"\n",
    "    data = data.dropna(axis=0, how='any')\n",
    "    x_data = data.drop([y_name], axis=1)\n",
    "    y_data = data[y_name]\n",
    "    x_basic_set = sorted([v for k, v in basic_set(x_data).items()])\n",
    "    y_basic_set = sorted([v for k, v in basic_set(y_data).items()])\n",
    "    \"\"\"\n",
    "    only get the values (but not the keys from basic set)\n",
    "    \"\"\"\n",
    "\n",
    "    pos = []\n",
    "    for i in x_basic_set:\n",
    "        for j in y_basic_set:\n",
    "            if set(i).issubset(j):\n",
    "                pos.append(i)\n",
    "    pos.sort()\n",
    "    print(\"x_basic_set\",x_basic_set)\n",
    "    print(\"y_basic_set\",y_basic_set)\n",
    "    print ('y的x正域Pos_x(y): ',pos)\n",
    "    r_x_y = len([k for i in pos for k in i]) / (len(data))\n",
    "    print('依赖度r_x_(y):', r_x_y)\n",
    "\n",
    "    # 探索条件属性中不可省关系\n",
    "    columns_num = list(range(x_data.shape[1])) \n",
    "    \n",
    "    # 收集核\n",
    "    imp_core = []\n",
    "    \n",
    "    # 收集属性重要性\n",
    "    imp_attr = []\n",
    "    \n",
    "    for i in columns_num:\n",
    "        c = columns_num.copy()\n",
    "        c.remove(i)\n",
    "        u = data.iloc[:, c]\n",
    "        u = sorted([v for k, v in basic_set(u).items()])\n",
    "        pos_va = []\n",
    "        \n",
    "        for k in u:\n",
    "            for j in y_basic_set:\n",
    "                if set(k).issubset(j):\n",
    "                    pos_va.append(k)\n",
    "        \n",
    "        if sorted(pos_va) != pos: \n",
    "            \"\"\"\n",
    "            如果去掉了了这个之后两个正域不相等，则是重要属性，放进imp_core\n",
    "            \"\"\"\n",
    "            imp_core.append(i)\n",
    "        \n",
    "        r = len(sorted(pos_va)) / len(data)\n",
    "        r_diff = round(r_x_y - r, 4)\n",
    "\n",
    "        imp_attr.append(r_diff)\n",
    "\n",
    "    dict_imp = {}\n",
    "    for o, p in enumerate(imp_attr):\n",
    "        dict_imp[data.columns[o]] = p\n",
    "\n",
    "    result = dict_imp\n",
    "    sorted_dict_imp = sorted(dict_imp, key=lambda x: dict_imp[x], reverse=True)\n",
    "    sorted_dict_imp = list(map(lambda x: {x: dict_imp[x]}, sorted_dict_imp))\n",
    "    imp_core = [data.columns[i] for i in imp_core]\n",
    "\n",
    "    print('属性重要度(越大越重要)为:', sorted_dict_imp)\n",
    "    print(\"imp_core:{}\".format(imp_core))\n",
    "    return dict_imp,sorted_dict_imp,imp_core"
   ]
  },
  {
   "cell_type": "code",
   "execution_count": 47,
   "metadata": {},
   "outputs": [],
   "source": [
    "def deal(data,y_name):\n",
    "    #获取数据长度\n",
    "    len1 = data.shape[0]\n",
    "    \n",
    "    sorted_dict_imp = [[]]*len1\n",
    "    total = [0]*len1\n",
    "    title = data.columns.tolist()[:-1]\n",
    "    dict_imp,sorted_dict_imp,imp_core = rough_set(data,y_name)\n",
    "    return dict_imp,sorted_dict_imp,imp_core"
   ]
  },
  {
   "cell_type": "code",
   "execution_count": 48,
   "metadata": {},
   "outputs": [
    {
     "name": "stdout",
     "output_type": "stream",
     "text": [
      "x_basic_set [[0, 1, 2, 3, 5], [4], [6, 9, 10, 12, 13], [7, 8, 11, 14], [15, 17], [16]]\n",
      "y_basic_set [[0, 1, 2, 3, 4, 5, 6, 7, 8, 9], [10, 11, 12, 13, 14, 15, 16, 17]]\n",
      "y的x正域Pos_x(y):  [[0, 1, 2, 3, 5], [4], [15, 17], [16]]\n",
      "依赖度r_x_(y): 0.5\n",
      "属性重要度(越大越重要)为: [{'education': 0.5}, {'age': 0.3889}, {'sex': 0.3889}]\n",
      "imp_core:['education', 'age', 'sex']\n",
      "runnning time is 0.13s\n"
     ]
    }
   ],
   "source": [
    "time1 = time.time()\n",
    "#读取文件数据\n",
    "data = pd.read_csv(filepath_or_buffer=os.path.join(path,'test2.csv'))\n",
    "dict_imp,sorted_dict_imp,imp_core = deal(data,\"salary\")\n",
    "time2 = time.time()\n",
    "print(\"runnning time is {}s\".format(round(time2-time1,2)))"
   ]
  },
  {
   "cell_type": "code",
   "execution_count": 49,
   "metadata": {},
   "outputs": [
    {
     "data": {
      "text/plain": [
       "'salary'"
      ]
     },
     "execution_count": 49,
     "metadata": {},
     "output_type": "execute_result"
    }
   ],
   "source": [
    "data.columns.tolist()[-1:][0]"
   ]
  },
  {
   "cell_type": "code",
   "execution_count": 56,
   "metadata": {},
   "outputs": [
    {
     "data": {
      "text/html": [
       "<div>\n",
       "<style scoped>\n",
       "    .dataframe tbody tr th:only-of-type {\n",
       "        vertical-align: middle;\n",
       "    }\n",
       "\n",
       "    .dataframe tbody tr th {\n",
       "        vertical-align: top;\n",
       "    }\n",
       "\n",
       "    .dataframe thead th {\n",
       "        text-align: right;\n",
       "    }\n",
       "</style>\n",
       "<table border=\"1\" class=\"dataframe\">\n",
       "  <thead>\n",
       "    <tr style=\"text-align: right;\">\n",
       "      <th></th>\n",
       "      <th></th>\n",
       "      <th></th>\n",
       "      <th></th>\n",
       "      <th>可能性</th>\n",
       "    </tr>\n",
       "    <tr>\n",
       "      <th>education</th>\n",
       "      <th>age</th>\n",
       "      <th>sex</th>\n",
       "      <th>salary</th>\n",
       "      <th></th>\n",
       "    </tr>\n",
       "  </thead>\n",
       "  <tbody>\n",
       "    <tr>\n",
       "      <th rowspan=\"2\" valign=\"top\">0</th>\n",
       "      <th rowspan=\"2\" valign=\"top\">0</th>\n",
       "      <th>0</th>\n",
       "      <th>0</th>\n",
       "      <td>100.0%</td>\n",
       "    </tr>\n",
       "    <tr>\n",
       "      <th>1</th>\n",
       "      <th>0</th>\n",
       "      <td>100.0%</td>\n",
       "    </tr>\n",
       "    <tr>\n",
       "      <th rowspan=\"6\" valign=\"top\">1</th>\n",
       "      <th rowspan=\"2\" valign=\"top\">0</th>\n",
       "      <th>0</th>\n",
       "      <th>1</th>\n",
       "      <td>100.0%</td>\n",
       "    </tr>\n",
       "    <tr>\n",
       "      <th>1</th>\n",
       "      <th>1</th>\n",
       "      <td>100.0%</td>\n",
       "    </tr>\n",
       "    <tr>\n",
       "      <th rowspan=\"4\" valign=\"top\">1</th>\n",
       "      <th rowspan=\"2\" valign=\"top\">0</th>\n",
       "      <th>0</th>\n",
       "      <td>50.0%</td>\n",
       "    </tr>\n",
       "    <tr>\n",
       "      <th>1</th>\n",
       "      <td>50.0%</td>\n",
       "    </tr>\n",
       "    <tr>\n",
       "      <th rowspan=\"2\" valign=\"top\">1</th>\n",
       "      <th>1</th>\n",
       "      <td>60.0%</td>\n",
       "    </tr>\n",
       "    <tr>\n",
       "      <th>0</th>\n",
       "      <td>40.0%</td>\n",
       "    </tr>\n",
       "  </tbody>\n",
       "</table>\n",
       "</div>"
      ],
      "text/plain": [
       "                             可能性\n",
       "education age sex salary        \n",
       "0         0   0   0       100.0%\n",
       "              1   0       100.0%\n",
       "1         0   0   1       100.0%\n",
       "              1   1       100.0%\n",
       "          1   0   0        50.0%\n",
       "                  1        50.0%\n",
       "              1   1        60.0%\n",
       "                  0        40.0%"
      ]
     },
     "execution_count": 56,
     "metadata": {},
     "output_type": "execute_result"
    }
   ],
   "source": [
    "n = 3 # how many features you want to have, the rest will be ignored\n",
    "result = data.sort_values(by=data.columns.tolist())\n",
    "result1 = pd.DataFrame(result.groupby(data.columns.tolist()[:n])[data.columns.tolist()[-1:][0]].value_counts(normalize=True))\n",
    "result1.columns = [\"可能性\"]\n",
    "result1.可能性=(round(result1[\"可能性\"]*100,2)).astype(str)+\"%\"\n",
    "result1"
   ]
  },
  {
   "cell_type": "code",
   "execution_count": 57,
   "metadata": {},
   "outputs": [],
   "source": [
    "result1.to_excel(os.path.join(path,'output.xlsx'))"
   ]
  }
 ],
 "metadata": {
  "kernelspec": {
   "display_name": "Python 3",
   "language": "python",
   "name": "python3"
  },
  "language_info": {
   "codemirror_mode": {
    "name": "ipython",
    "version": 3
   },
   "file_extension": ".py",
   "mimetype": "text/x-python",
   "name": "python",
   "nbconvert_exporter": "python",
   "pygments_lexer": "ipython3",
   "version": "3.7.0"
  }
 },
 "nbformat": 4,
 "nbformat_minor": 2
}
