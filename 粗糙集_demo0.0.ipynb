{
 "cells": [
  {
   "cell_type": "code",
   "execution_count": 1,
   "metadata": {},
   "outputs": [],
   "source": [
    "import pandas as pd\n",
    "import time"
   ]
  },
  {
   "cell_type": "code",
   "execution_count": 2,
   "metadata": {},
   "outputs": [],
   "source": [
    "def basic_set(df):\n",
    "    basic = {}\n",
    "    for i in df.drop_duplicates().values.tolist():\n",
    "        basic[str(i)] = []\n",
    "        for j, k in enumerate(df.values.tolist()):\n",
    "            if k == i:\n",
    "                basic[str(i)].append(j)\n",
    "\n",
    "    return basic\n",
    "\n",
    "def rough_set(data):\n",
    "    data = data.dropna(axis=0, how='any')\n",
    "    x_data = data.drop(['judge'], axis=1)\n",
    "    y_data = data['judge']\n",
    "    # 决策属性基本集\n",
    "    y_basic_set = sorted([v for k, v in basic_set(y_data).items()])\n",
    "    # 条件属性基本集\n",
    "    x_basic_set = sorted([v for k, v in basic_set(x_data).items()])\n",
    "    pos = []\n",
    "    for i in x_basic_set:\n",
    "        for j in y_basic_set:\n",
    "            if set(i).issubset(j):\n",
    "                pos.append(i)\n",
    "    pos.sort()\n",
    "#     print(\"x_basic_set\",x_basic_set)\n",
    "#     print(\"y_basic_set\",y_basic_set)\n",
    "#     print ('y的x正域Pos_x(y): ',pos)\n",
    "    r_x_y = len([k for i in pos for k in i]) / (len(data))\n",
    "    # print('依赖度r_x_(y):', r_x_y)\n",
    "\n",
    "    # 探索条件属性中不可省关系\n",
    "    columns_num = list(range(x_data.shape[1])) \n",
    "    \n",
    "    # 收集核\n",
    "    imp_core = []\n",
    "    \n",
    "    # 收集属性重要性\n",
    "    imp_attr = []\n",
    "    \n",
    "    for i in columns_num:\n",
    "        c = columns_num.copy()\n",
    "        c.remove(i)\n",
    "        u = data.iloc[:, c]\n",
    "        u = sorted([v for k, v in basic_set(u).items()])\n",
    "        pos_va = []\n",
    "        \n",
    "        for k in u:\n",
    "            for j in y_basic_set:\n",
    "                if set(k).issubset(j):\n",
    "                    pos_va.append(k)\n",
    "        \n",
    "        if sorted(pos_va) != pos: \n",
    "            \"\"\"\n",
    "            如果去掉了了这个之后两个正域不相等，则是重要属性，放进imp_core\n",
    "            \"\"\"\n",
    "            imp_core.append(i)\n",
    "        \n",
    "        r = len(sorted(pos_va)) / len(data)\n",
    "        r_diff = round(r_x_y - r, 4)\n",
    "\n",
    "        imp_attr.append(r_diff)\n",
    "\n",
    "    dict_imp = {}\n",
    "    for o, p in enumerate(imp_attr):\n",
    "        dict_imp[data.columns[o]] = p\n",
    "\n",
    "    result = dict_imp\n",
    "    sorted_dict_imp = sorted(dict_imp, key=lambda x: dict_imp[x], reverse=True)\n",
    "    sorted_dict_imp = list(map(lambda x: {x: dict_imp[x]}, sorted_dict_imp))\n",
    "    imp_core = [data.columns[i] for i in imp_core]\n",
    "\n",
    "    print('属性重要度(越大越重要)为:', sorted_dict_imp)\n",
    "    print(\"imp_core:{}\".format(imp_core))\n",
    "    return dict_imp,sorted_dict_imp,imp_core\n",
    "\n",
    "def deal(data):\n",
    "    #获取数据长度\n",
    "    len1 = data.shape[0]\n",
    "    \n",
    "    sorted_dict_imp = [[]]*len1\n",
    "    total = [0]*len1\n",
    "    title = data.columns.tolist()[:-1]\n",
    "    dict_imp,sorted_dict_imp,imp_core = rough_set(data)\n",
    "    return dict_imp,sorted_dict_imp,imp_core"
   ]
  },
  {
   "cell_type": "code",
   "execution_count": 3,
   "metadata": {},
   "outputs": [
    {
     "name": "stdout",
     "output_type": "stream",
     "text": [
      "属性重要度(越大越重要)为: [{'C26': 0.0923}, {'C15': 0.0887}, {'C23': 0.0851}, {'C2': 0.0796}, {'C14': 0.0787}, {'C25': 0.0778}, {'C4': 0.0769}, {'C6': 0.0751}, {'C22': 0.0742}, {'C24': 0.0706}, {'C27': 0.0706}, {'C8': 0.0679}, {'C13': 0.0679}, {'C19': 0.067}, {'C1': 0.0661}, {'C10': 0.0652}, {'C18': 0.0652}, {'C3': 0.0643}, {'C12': 0.0643}, {'C16': 0.0643}, {'C17': 0.0643}, {'C5': 0.0633}, {'C7': 0.0633}, {'C21': 0.0633}, {'C9': 0.0624}, {'C11': 0.0624}, {'C20': 0.0624}, {'C28': 0.0615}]\n",
      "imp_core:['C1', 'C2', 'C3', 'C4', 'C5', 'C6', 'C7', 'C8', 'C9', 'C10', 'C11', 'C12', 'C13', 'C14', 'C15', 'C16', 'C17', 'C18', 'C19', 'C20', 'C21', 'C22', 'C23', 'C24', 'C25', 'C26', 'C27']\n",
      "runnning time is 242.86s\n"
     ]
    }
   ],
   "source": [
    "time1 = time.time()\n",
    "#读取文件数据\n",
    "data = pd.read_csv(filepath_or_buffer='/Users/sijianxuan/Documents/test.csv')\n",
    "dict_imp,sorted_dict_imp,imp_core = deal(data)\n",
    "time2 = time.time()\n",
    "print(\"runnning time is {}s\".format(round(time2-time1,2)))"
   ]
  },
  {
   "cell_type": "code",
   "execution_count": null,
   "metadata": {},
   "outputs": [],
   "source": []
  },
  {
   "cell_type": "code",
   "execution_count": null,
   "metadata": {},
   "outputs": [],
   "source": []
  },
  {
   "cell_type": "code",
   "execution_count": null,
   "metadata": {},
   "outputs": [],
   "source": []
  }
 ],
 "metadata": {
  "kernelspec": {
   "display_name": "Python 3",
   "language": "python",
   "name": "python3"
  },
  "language_info": {
   "codemirror_mode": {
    "name": "ipython",
    "version": 3
   },
   "file_extension": ".py",
   "mimetype": "text/x-python",
   "name": "python",
   "nbconvert_exporter": "python",
   "pygments_lexer": "ipython3",
   "version": "3.7.0"
  }
 },
 "nbformat": 4,
 "nbformat_minor": 2
}
